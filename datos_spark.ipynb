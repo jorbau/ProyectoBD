{
 "cells": [
  {
   "cell_type": "code",
   "execution_count": 1,
   "metadata": {},
   "outputs": [
    {
     "data": {
      "text/html": [
       "<style>.container { width:100% !important; }</style>"
      ],
      "text/plain": [
       "<IPython.core.display.HTML object>"
      ]
     },
     "metadata": {},
     "output_type": "display_data"
    }
   ],
   "source": [
    "# ONLY REQUIRED IF THE NOTEBOOK IS NOT STARTED BY `pyspark`\n",
    "if not (\"spark\" in vars() or \"spark\" in globals()):\n",
    "    from pyspark import SparkContext, SparkConf\n",
    "\n",
    "    conf = SparkConf().setAppName(\"intro-to-df-2\").setMaster(\"local\")\n",
    "    sc = SparkContext(conf=conf)\n",
    "    # Avoid polluting the console with warning messages\n",
    "    sc.setLogLevel(\"ERROR\")\n",
    "\n",
    "    from pyspark.sql import SparkSession\n",
    "\n",
    "    spark = SparkSession(sc)\n",
    "else:\n",
    "    print(\"SparkSession already configured!\")\n",
    "    \n",
    "# To avoid breaks when showing tables with lot of columns\n",
    "from IPython.core.display import HTML\n",
    "display(HTML(\"<style>.container { width:100% !important; }</style>\"))"
   ]
  },
  {
   "cell_type": "code",
   "execution_count": 2,
   "metadata": {},
   "outputs": [],
   "source": [
    "acciones_df = spark.read.option(\"header\", True).csv(\"Acciones.csv\")\n",
    "datos_df = spark.read.option(\"header\", True).csv(\"datos.csv\")"
   ]
  },
  {
   "cell_type": "code",
   "execution_count": 3,
   "metadata": {},
   "outputs": [],
   "source": [
    "from pyspark.sql.types import IntegerType\n",
    "from pyspark.sql.functions import udf\n",
    "def year(x):\n",
    "    return int(x[:4])\n",
    "\n",
    "# Integer type output\n",
    "year_udf_int = udf(lambda z: year(z), IntegerType())"
   ]
  },
  {
   "cell_type": "code",
   "execution_count": 4,
   "metadata": {},
   "outputs": [
    {
     "name": "stdout",
     "output_type": "stream",
     "text": [
      "+------+------+------+------+--------+----+\n",
      "|  open|  high|   low| close|  volume|year|\n",
      "+------+------+------+------+--------+----+\n",
      "|3.8000|5.0000|3.5080|4.7780|93831500|2010|\n",
      "|5.1580|6.0838|4.6600|4.7660|85935500|2010|\n",
      "|5.0000|5.1840|4.0540|4.3920|41094000|2010|\n",
      "|4.6000|4.6200|3.7420|3.8400|25699000|2010|\n",
      "|4.0000|4.0000|3.1660|3.2220|34334500|2010|\n",
      "|3.2800|3.3260|2.9960|3.1600|34608500|2010|\n",
      "|3.2280|3.5040|3.1140|3.4920|38557000|2010|\n",
      "|3.5160|3.5800|3.3100|3.4800|20253000|2010|\n",
      "|3.5900|3.6140|3.4000|3.4100|11012500|2010|\n",
      "|3.4788|3.7280|3.3800|3.6280|13400500|2010|\n",
      "|3.5880|4.0300|3.5520|3.9680|20976000|2010|\n",
      "|3.9880|4.3000|3.8000|3.9780|18699000|2010|\n",
      "|4.1400|4.2600|4.0100|4.1280|13106500|2010|\n",
      "|4.2740|4.4500|4.1840|4.3820|12432500|2010|\n",
      "|4.3700|4.3700|4.0100|4.0600| 9126500|2010|\n",
      "|4.1320|4.1800|3.9000|4.0440| 6262500|2010|\n",
      "|4.1000|4.2500|4.0740|4.2000| 4789000|2010|\n",
      "|4.2380|4.3120|4.2120|4.2580| 3268000|2010|\n",
      "|4.3000|4.3000|4.0600|4.1900| 4611000|2010|\n",
      "|4.1820|4.2360|4.0520|4.1100| 3098500|2010|\n",
      "+------+------+------+------+--------+----+\n",
      "only showing top 20 rows\n",
      "\n"
     ]
    }
   ],
   "source": [
    "acciones_df = acciones_df.withColumn(\"year\", year_udf_int(\"date\")).select(\"open\", \"high\", \"low\", \"close\", \"volume\", \"year\")\n",
    "acciones_df.show()"
   ]
  },
  {
   "cell_type": "code",
   "execution_count": 5,
   "metadata": {},
   "outputs": [],
   "source": [
    "from pyspark.sql.types import FloatType\n",
    "from pyspark.sql.functions import col\n",
    "\n",
    "acciones_df = acciones_df.withColumn(\"high\",col(\"high\").cast(FloatType())) \\\n",
    "    .withColumn(\"low\",col(\"low\").cast(FloatType())) \\\n",
    "    .withColumn(\"volume\",col(\"volume\").cast(FloatType()))"
   ]
  },
  {
   "cell_type": "code",
   "execution_count": 6,
   "metadata": {},
   "outputs": [],
   "source": [
    "acciones_df = acciones_df.groupBy(\"year\").mean(\"high\",\"low\",\"volume\")\n"
   ]
  },
  {
   "cell_type": "code",
   "execution_count": 7,
   "metadata": {},
   "outputs": [
    {
     "name": "stdout",
     "output_type": "stream",
     "text": [
      "+----+---------------------------------------+------------------------------------+------------------------------------------------+--------------------------------------+----------------------------------------------------------------------+----------------------------------------------------+-----------------------------------+--------------+--------------------------------+-----------------------------+-------------+-------------+-------------+-------------+\n",
      "|year|Anual revenue (in million U.S. dollars)|Net income (in million U.S. dollars)|Estimated EVs sales worldwide (in million units)|R&D Expenses (in million U.S. dollars)|Selling, general and administrative expenses (in million U.S. dollars)|Number vehicles delivered worldwide (in 1,000 units)|Vehicle production (in 1,000 units)|Employee count|Lithium Battery Prices Worldwide|Count Superchargers Worldwide|Model S sales|Model Y sales|Model X sales|Model 3 sales|\n",
      "+----+---------------------------------------+------------------------------------+------------------------------------------------+--------------------------------------+----------------------------------------------------------------------+----------------------------------------------------+-----------------------------------+--------------+--------------------------------+-----------------------------+-------------+-------------+-------------+-------------+\n",
      "|2008|                                  15.00|                                null|                                            0.00|                                  null|                                                                 24.00|                                                null|                               null|          null|                            null|                         0.00|         null|         null|         null|         null|\n",
      "|2009|                                 112.00|                              -56.00|                                            0.00|                                 19.28|                                                                 42.00|                                                null|                               null|          null|                            null|                         0.00|         null|         null|         null|         null|\n",
      "|2010|                                 117.00|                             -154.00|                                            0.00|                                 93.00|                                                                 85.00|                                                null|                               null|        899.00|                        1,191.00|                            0|         null|         null|         null|         null|\n",
      "|2011|                                 204.00|                             -254.00|                                            0.06|                                208.98|                                                                104.00|                                                null|                               null|      1,417.00|                          924.00|                            0|         null|         null|         null|         null|\n",
      "|2012|                                 413.00|                             -396.00|                                            0.12|                                273.98|                                                                150.00|                                                null|                               null|      2,964.00|                          726.00|                            7|         null|         null|         null|         null|\n",
      "|2013|                               2,014.00|                              -74.00|                                            0.23|                                231.98|                                                                286.00|                                               22.44|                               2.65|      5,859.00|                          668.00|                           62|         null|         null|         null|         null|\n",
      "|2014|                               3,198.00|                             -294.00|                                            0.33|                                464.70|                                                                604.00|                                               31.66|                              35.00|     10,161.00|                          592.00|                          294|    16,698.00|         null|         null|         null|\n",
      "|2015|                               4,046.00|                             -889.00|                                            0.58|                                717.90|                                                                922.00|                                               50.52|                              51.10|     13,058.00|                          384.00|                          533|    25,202.00|         null|        97.00|         null|\n",
      "|2016|                               7,000.00|                             -675.00|                                            0.80|                                834.41|                                                              1,432.00|                                               76.24|                              83.92|     17,782.00|                          295.00|                          742|    29,421.00|         null|     2,725.00|         null|\n",
      "|2017|                              11,759.00|                           -1,962.00|                                            1.27|                              1,378.07|                                                              2,477.00|                                              103.09|                             100.76|     37,543.00|                          221.00|                         1096|    27,060.00|         null|    21,600.00|     1,667.00|\n",
      "|2018|                              21,461.00|                             -976.00|                                            2.12|                              1,460.37|                                                              2,835.00|                                              245.00|                             254.53|     48,817.00|                          181.00|                         1402|    25,745.00|         null|    27,250.00|   140,317.00|\n",
      "|2019|                              24,578.00|                             -862.00|                                            2.18|                              1,343.00|                                                              2,646.00|                                              367.00|                             365.23|     48,016.00|                          157.00|                         1725|    14,245.00|         null|    19,600.00|   161,100.00|\n",
      "|2020|                              31,536.00|                              721.00|                                            3.07|                              1,491.00|                                                              3,145.00|                                              499.54|                             509.74|     70,757.00|                          137.00|                         2090|    17,500.00|    84,160.00|    26,100.00|   206,500.00|\n",
      "|2021|                              53,823.00|                            5,519.00|                                            6.60|                              2,593.00|                                                              4,517.00|                                              935.95|                               null|     99,290.00|                            null|                         3201|    11,500.00|   420,618.00|     7,305.00|   121,610.00|\n",
      "+----+---------------------------------------+------------------------------------+------------------------------------------------+--------------------------------------+----------------------------------------------------------------------+----------------------------------------------------+-----------------------------------+--------------+--------------------------------+-----------------------------+-------------+-------------+-------------+-------------+\n",
      "\n"
     ]
    }
   ],
   "source": [
    "datos_df = datos_df.withColumnRenamed(\"Año\", \"year\")\n",
    "datos_df.show()"
   ]
  },
  {
   "cell_type": "code",
   "execution_count": 8,
   "metadata": {},
   "outputs": [],
   "source": [
    "datos_df = datos_df.join(acciones_df, datos_df.year == acciones_df.year, how='left')"
   ]
  },
  {
   "cell_type": "code",
   "execution_count": 9,
   "metadata": {},
   "outputs": [],
   "source": [
    "datos_df.toPandas().to_csv('Tesla_Spark.csv')"
   ]
  }
 ],
 "metadata": {
  "interpreter": {
   "hash": "3778b3248a081f8c3297c71533e345ae61bdde748cd7f4181027818f38c18b02"
  },
  "kernelspec": {
   "display_name": "Python 3.9.13 64-bit (windows store)",
   "language": "python",
   "name": "python3"
  },
  "language_info": {
   "codemirror_mode": {
    "name": "ipython",
    "version": 3
   },
   "file_extension": ".py",
   "mimetype": "text/x-python",
   "name": "python",
   "nbconvert_exporter": "python",
   "pygments_lexer": "ipython3",
   "version": "3.9.13"
  },
  "orig_nbformat": 4
 },
 "nbformat": 4,
 "nbformat_minor": 2
}
